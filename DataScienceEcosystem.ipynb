{
 "cells": [
  {
   "cell_type": "markdown",
   "id": "c942cc6d-49d7-4e5e-987a-21b510d4738f",
   "metadata": {},
   "source": [
    "# Data Science Tools and Ecosystem"
   ]
  },
  {
   "cell_type": "markdown",
   "id": "bde3b2df-b44e-4d1b-9cd3-bf67e86835ba",
   "metadata": {},
   "source": [
    "In this notebook, Data Science Tools and Ecosystem are summarized."
   ]
  },
  {
   "cell_type": "markdown",
   "id": "a3dff3da-873c-4270-84a3-ea34c5ecaa7d",
   "metadata": {},
   "source": [
    "**Objectives**\n",
    "- Popular Data Science Languages\n",
    "- Commonly Used Data Science Libraries\n",
    "- Examples  of Arithmetic Expressions in Python"
   ]
  },
  {
   "cell_type": "markdown",
   "id": "c3a0b193-879b-4433-833c-cbe0cb7d721a",
   "metadata": {},
   "source": [
    "Some of the popular languages that Data Scientists use are: Python, R, Julia, and Apache Scala."
   ]
  },
  {
   "cell_type": "markdown",
   "id": "79933df5-2681-42a6-a959-a7f3fb7f5c34",
   "metadata": {},
   "source": [
    "Some of the commonly used libraries used by Data Scientists include: Scikitlearn, NumPy, Pandas, and TensorFLow."
   ]
  },
  {
   "cell_type": "markdown",
   "id": "47a22b02-6f02-4492-895d-12ea99ba785e",
   "metadata": {},
   "source": [
    "|Data Science Tools|\n",
    "|------------------|\n",
    "|MySQL             |\n",
    "|PostgreSQL        |\n",
    "|Apache Cassandra  |"
   ]
  },
  {
   "cell_type": "markdown",
   "id": "18d2b0e5-e0fe-4a2d-a3a8-2aed10ae2d0a",
   "metadata": {},
   "source": [
    "### Below are a few examples of evaluating arithmetic expressions in Python:\n",
    "|Arithmetic Expressions in Python|\n",
    "|--------------------------------|\n",
    "|            x + y|\n",
    "|            x - y|\n",
    "|            x * y|\n",
    "|            x / y|"
   ]
  },
  {
   "cell_type": "markdown",
   "id": "267f1a18-e73b-4f81-97d0-8a23db002959",
   "metadata": {},
   "source": [
    "The below arithmetic expression example is to show multiplication and then add integers:"
   ]
  },
  {
   "cell_type": "code",
   "execution_count": 7,
   "id": "e454ae25-a185-4a9e-8151-ecb071c18936",
   "metadata": {},
   "outputs": [
    {
     "data": {
      "text/plain": [
       "17"
      ]
     },
     "execution_count": 7,
     "metadata": {},
     "output_type": "execute_result"
    }
   ],
   "source": [
    "(3*4)+5"
   ]
  },
  {
   "cell_type": "markdown",
   "id": "a606ee98-5fab-4992-9c4a-af6580c1163d",
   "metadata": {},
   "source": [
    "The below expression will convert 200 minutes to hours by dividing by 60:"
   ]
  },
  {
   "cell_type": "code",
   "execution_count": 10,
   "id": "7cd6e3a6-424d-4646-9177-243389ec64d9",
   "metadata": {},
   "outputs": [
    {
     "data": {
      "text/plain": [
       "3.3333333333333335"
      ]
     },
     "execution_count": 10,
     "metadata": {},
     "output_type": "execute_result"
    }
   ],
   "source": [
    "200/60"
   ]
  },
  {
   "cell_type": "markdown",
   "id": "edea5ae8-fdc6-4481-b9a2-4305b30c7574",
   "metadata": {},
   "source": [
    "## Author:\n",
    "Duane Huff"
   ]
  },
  {
   "cell_type": "code",
   "execution_count": null,
   "id": "924e9ead-498d-4c92-bcef-788a95fdedda",
   "metadata": {},
   "outputs": [],
   "source": []
  }
 ],
 "metadata": {
  "kernelspec": {
   "display_name": "Python",
   "language": "python",
   "name": "conda-env-python-py"
  },
  "language_info": {
   "codemirror_mode": {
    "name": "ipython",
    "version": 3
   },
   "file_extension": ".py",
   "mimetype": "text/x-python",
   "name": "python",
   "nbconvert_exporter": "python",
   "pygments_lexer": "ipython3",
   "version": "3.7.12"
  }
 },
 "nbformat": 4,
 "nbformat_minor": 5
}
